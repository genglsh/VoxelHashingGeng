{
 "cells": [
  {
   "cell_type": "code",
   "execution_count": 1,
   "metadata": {},
   "outputs": [],
   "source": [
    "import cv2\n",
    "for i in range(26):\n",
    "    a = cv2.imread(str(i) + '.png',-1)\n",
    "    a1 = cv2.resize(a,(640,480))\n",
    "    cv2.imwrite(str(i) + '.png',a1)"
   ]
  },
  {
   "cell_type": "code",
   "execution_count": 6,
   "metadata": {},
   "outputs": [
    {
     "name": "stdout",
     "output_type": "stream",
     "text": [
      "0\n",
      "3690\n",
      "0\n",
      "3254\n",
      "0\n",
      "3264\n",
      "0\n",
      "3204\n",
      "0\n",
      "4186\n",
      "0\n",
      "5286\n",
      "0\n",
      "5286\n",
      "0\n",
      "5286\n",
      "0\n",
      "5447\n",
      "0\n",
      "5433\n",
      "0\n",
      "5286\n",
      "0\n",
      "5369\n",
      "0\n",
      "5634\n",
      "0\n",
      "5454\n",
      "0\n",
      "5454\n",
      "0\n",
      "5454\n",
      "0\n",
      "5369\n",
      "0\n",
      "5369\n",
      "0\n",
      "5369\n",
      "0\n",
      "5427\n",
      "0\n",
      "5543\n",
      "0\n",
      "5454\n",
      "0\n",
      "5454\n",
      "0\n",
      "5506\n",
      "0\n",
      "5454\n",
      "0\n",
      "5454\n"
     ]
    }
   ],
   "source": [
    "for i in range(26):\n",
    "    a = cv2.imread(str(i) + '.png', -1)\n",
    "    print a.min()\n",
    "    print a.max()"
   ]
  },
  {
   "cell_type": "code",
   "execution_count": null,
   "metadata": {},
   "outputs": [],
   "source": []
  }
 ],
 "metadata": {
  "kernelspec": {
   "display_name": "Python 2",
   "language": "python",
   "name": "python2"
  },
  "language_info": {
   "codemirror_mode": {
    "name": "ipython",
    "version": 2
   },
   "file_extension": ".py",
   "mimetype": "text/x-python",
   "name": "python",
   "nbconvert_exporter": "python",
   "pygments_lexer": "ipython2",
   "version": "2.7.12"
  }
 },
 "nbformat": 4,
 "nbformat_minor": 2
}
