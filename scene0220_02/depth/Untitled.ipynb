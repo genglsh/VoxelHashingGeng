{
 "cells": [
  {
   "cell_type": "code",
   "execution_count": 1,
   "metadata": {},
   "outputs": [],
   "source": [
    "import os\n",
    "for i in range(61, 128):\n",
    "    yj = \"mv \" + str(i)+\".png \" + str(i-61) + \".png\"\n",
    "    os.system(yj)"
   ]
  },
  {
   "cell_type": "code",
   "execution_count": 2,
   "metadata": {},
   "outputs": [],
   "source": [
    "import cv2\n",
    "for i in range(20):\n",
    "    img = str(i) + \".png\"\n",
    "    a = cv2.imread(img)\n",
    "    b = cv2.cvtColor(a, cv2.COLOR_RGB2GRAY)\n",
    "    b = cv2.resize(b,(640,480))\n",
    "    cv2.imwrite(img,b)"
   ]
  },
  {
   "cell_type": "code",
   "execution_count": 1,
   "metadata": {},
   "outputs": [],
   "source": [
    "import cv2\n",
    "for i in range(26):\n",
    "    a = cv2.imread(str(i) + '.png',-1)\n",
    "    a1 = cv2.resize(a,(640,480))\n",
    "    cv2.imwrite(str(i) + '.png',a1)"
   ]
  },
  {
   "cell_type": "code",
   "execution_count": 8,
   "metadata": {},
   "outputs": [
    {
     "name": "stdout",
     "output_type": "stream",
     "text": [
      "677\n"
     ]
    }
   ],
   "source": [
    "import cv2\n",
    "for i in range(1):\n",
    "    a = cv2.imread(str(i) + '.png', -1)\n",
    "    print(a[412][332])"
   ]
  },
  {
   "cell_type": "code",
   "execution_count": 11,
   "metadata": {},
   "outputs": [
    {
     "data": {
      "text/plain": [
       "True"
      ]
     },
     "execution_count": 11,
     "metadata": {},
     "output_type": "execute_result"
    }
   ],
   "source": [
    "import cv2\n",
    "a = cv2.imread(str(3) + '.png')\n",
    "hflipImg = cv2.flip(a, 1)\n",
    "cv2.imwrite(str(3) + '_.png', hflipImg)\n",
    "    \n",
    "    \n"
   ]
  },
  {
   "cell_type": "code",
   "execution_count": 4,
   "metadata": {},
   "outputs": [
    {
     "data": {
      "text/plain": [
       "693"
      ]
     },
     "execution_count": 4,
     "metadata": {},
     "output_type": "execute_result"
    }
   ],
   "source": [
    "import cv2\n",
    "a = cv2.imread(\"0.png\",-1)\n",
    "a[240][320]"
   ]
  },
  {
   "cell_type": "code",
   "execution_count": 1,
   "metadata": {},
   "outputs": [],
   "source": [
    "import cv2\n",
    "import numpy as np\n",
    "\n",
    "def CreatePointCloud():\n",
    "    imgName1 =  \"ROI.png\"\n",
    "    depthImg = cv2.imread(imgName1,-1)\n",
    "    print(depthImg.shape)\n",
    "    h, w = depthImg.shape\n",
    "    camera = np.eye(3,3)\n",
    "    print(camera)\n",
    "\n",
    "    fx = 517.448 \n",
    "    fy = 517.448\n",
    "    cx = 305.432\n",
    "    cy = 250.411\n",
    "\n",
    "    camera[0][0] = fx\n",
    "    camera[0][2] = cx\n",
    "    camera[1][1] = fy\n",
    "    camera[1][2] = cy\n",
    "\n",
    "    print(camera)\n",
    "\n",
    "    cameraInv = np.linalg.inv(camera)\n",
    "\n",
    "    # print(np.dot(camera, cameraInv))\n",
    "\n",
    "    pointTxt = []\n",
    "\n",
    "    for i in range(h):\n",
    "        for ii in range(w):\n",
    "            if depthImg[i][ii] and i%2 == 0 and ii%2  == 0:\n",
    "                pointAxis = depthImg[i][ii] * np.dot(cameraInv, np.array([[i], [ii], [1]]))\n",
    "                pointAxis = np.transpose(pointAxis)\n",
    "                tem = pointAxis.tolist()\n",
    "                pointTxt.append(tem[0])\n",
    "    print(len(pointTxt))\n",
    "    fileName = \"ROI.txt\"\n",
    "    np.savetxt(fileName, pointTxt)\n",
    "\n"
   ]
  },
  {
   "cell_type": "code",
   "execution_count": 4,
   "metadata": {},
   "outputs": [
    {
     "name": "stdout",
     "output_type": "stream",
     "text": [
      "(283, 168)\n",
      "[[1. 0. 0.]\n",
      " [0. 1. 0.]\n",
      " [0. 0. 1.]]\n",
      "[[517.448   0.    305.432]\n",
      " [  0.    517.448 250.411]\n",
      " [  0.      0.      1.   ]]\n",
      "9450\n"
     ]
    }
   ],
   "source": [
    "CreatePointCloud()"
   ]
  },
  {
   "cell_type": "code",
   "execution_count": 1,
   "metadata": {},
   "outputs": [
    {
     "name": "stdout",
     "output_type": "stream",
     "text": [
      "(480, 640)\n",
      "[[1. 0. 0.]\n",
      " [0. 1. 0.]\n",
      " [0. 0. 1.]]\n",
      "[[517.448   0.    305.432]\n",
      " [  0.    517.448 250.411]\n",
      " [  0.      0.      1.   ]]\n",
      "[[ 0.00193256  0.         -0.59026608]\n",
      " [ 0.          0.00193256 -0.48393462]\n",
      " [ 0.          0.          1.        ]]\n",
      "891\n"
     ]
    }
   ],
   "source": [
    "import cv2\n",
    "import numpy as np\n",
    "\n",
    "def CreatePointCloud(cnt, step = 8, x = 0, y = 0, x_ = 640, y_ = 480):\n",
    "    imgName1 = str(cnt) + \".png\"\n",
    "    depthImg = cv2.imread(imgName1,-1)\n",
    "    print(depthImg.shape)\n",
    "    h, w = depthImg.shape\n",
    "    camera = np.eye(3,3)\n",
    "    print(camera)\n",
    "\n",
    "    fx = 517.448 \n",
    "    fy = 517.448\n",
    "    cx = 305.432\n",
    "    cy = 250.411\n",
    "\n",
    "    camera[0][0] = fx\n",
    "    camera[0][2] = cx\n",
    "    camera[1][1] = fy\n",
    "    camera[1][2] = cy\n",
    "\n",
    "    print(camera)\n",
    "\n",
    "    cameraInv = np.linalg.inv(camera)\n",
    "    print(cameraInv)\n",
    "\n",
    "    # print(np.dot(camera, cameraInv))\n",
    "\n",
    "    pointTxt = []\n",
    "\n",
    "    for i in range(y, y_, step):\n",
    "        for ii in range(x, x_, step):\n",
    "            if depthImg[i][ii] and depthImg[i][ii] < 1000:\n",
    "                pointAxis = depthImg[i][ii] * np.dot(cameraInv, np.array([[i], [ii], [1]]))\n",
    "                pointAxis = np.transpose(pointAxis)\n",
    "                tem = pointAxis.tolist()\n",
    "                pointTxt.append(tem[0])\n",
    "    print(len(pointTxt))\n",
    "    fileName = str(cnt) + \".txt\"\n",
    "#     np.savetxt(fileName, pointTxt)\n",
    "\n",
    "# CreatePointCloud(0, 100,100,300,300)\n",
    "for i in range(1):\n",
    "    CreatePointCloud(i,4)\n"
   ]
  },
  {
   "cell_type": "code",
   "execution_count": 1,
   "metadata": {},
   "outputs": [],
   "source": [
    "import cv2\n",
    "import numpy\n"
   ]
  },
  {
   "cell_type": "code",
   "execution_count": 2,
   "metadata": {},
   "outputs": [],
   "source": [
    "img = cv2.imread('0.png',-1)"
   ]
  },
  {
   "cell_type": "code",
   "execution_count": 2,
   "metadata": {},
   "outputs": [
    {
     "name": "stdout",
     "output_type": "stream",
     "text": [
      "[[177 177 175 ...   0   0   0]\n",
      " [177 177 177 ...   0   0   0]\n",
      " [177 177 177 ... 188   0   0]\n",
      " ...\n",
      " [  0  56  56 ...   0   0   0]\n",
      " [  0   0  56 ...   0   0   0]\n",
      " [  0   0   0 ...   0   0   0]]\n"
     ]
    },
    {
     "data": {
      "image/png": "[encoded data removed]",
      "text/plain": [
       "<matplotlib.figure.Figure at 0x7f576c543210>"
      ]
     },
     "metadata": {},
     "output_type": "display_data"
    },
    {
     "ename": "error",
     "evalue": "/build/opencv-ys8xiq/opencv-2.4.9.1+dfsg/modules/imgproc/src/thresh.cpp:783: error: (-210)  in function threshold\n",
     "output_type": "error",
     "traceback": [
      "\u001b[0;31m---------------------------------------------------------------------------\u001b[0m",
      "\u001b[0;31merror\u001b[0m                                     Traceback (most recent call last)",
      "\u001b[0;32m<ipython-input-2-1245cf943a4f>\u001b[0m in \u001b[0;36m<module>\u001b[0;34m()\u001b[0m\n\u001b[1;32m     36\u001b[0m \u001b[0;31m# cv2.destroyAllWindows()\u001b[0m\u001b[0;34m\u001b[0m\u001b[0;34m\u001b[0m\u001b[0m\n\u001b[1;32m     37\u001b[0m \u001b[0;34m\u001b[0m\u001b[0m\n\u001b[0;32m---> 38\u001b[0;31m \u001b[0mret\u001b[0m\u001b[0;34m,\u001b[0m\u001b[0mbinary\u001b[0m \u001b[0;34m=\u001b[0m \u001b[0mcv2\u001b[0m\u001b[0;34m.\u001b[0m\u001b[0mthreshold\u001b[0m\u001b[0;34m(\u001b[0m\u001b[0mimg\u001b[0m\u001b[0;34m,\u001b[0m\u001b[0;36m80\u001b[0m\u001b[0;34m,\u001b[0m\u001b[0;36m255\u001b[0m\u001b[0;34m,\u001b[0m\u001b[0mcv2\u001b[0m\u001b[0;34m.\u001b[0m\u001b[0mTHRESH_BINARY\u001b[0m\u001b[0;34m)\u001b[0m\u001b[0;34m\u001b[0m\u001b[0m\n\u001b[0m\u001b[1;32m     39\u001b[0m \u001b[0mcv2\u001b[0m\u001b[0;34m.\u001b[0m\u001b[0mimshow\u001b[0m\u001b[0;34m(\u001b[0m\u001b[0;34m\"inv\"\u001b[0m\u001b[0;34m,\u001b[0m \u001b[0mbinary\u001b[0m\u001b[0;34m)\u001b[0m\u001b[0;34m\u001b[0m\u001b[0m\n\u001b[1;32m     40\u001b[0m \u001b[0;34m\u001b[0m\u001b[0m\n",
      "\u001b[0;31merror\u001b[0m: /build/opencv-ys8xiq/opencv-2.4.9.1+dfsg/modules/imgproc/src/thresh.cpp:783: error: (-210)  in function threshold\n"
     ]
    }
   ],
   "source": [
    "import cv2\n",
    "import numpy as np\n",
    "from matplotlib import pyplot as plt\n",
    "import mahotas\n",
    "%matplotlib inline\n",
    "\n",
    "# 导入图片\n",
    "img = cv2.imread('5.png',-1)\n",
    "img /= 15\n",
    "\n",
    "print img\n",
    "\n",
    "# T = mahotas.thresholding.otsu(img)\n",
    "# print(T)\n",
    "# 利用直方图绘制函数\n",
    "# 其中用到的参数有：img.ravel()，将多维数组转换为一维数组（若没必要，不会产生数据源的副本），用来指定每个bin(箱子)分布的数据，对应x轴\n",
    "# 256 指定bin(箱子)的个数，也就是总共有几条条柱\n",
    "# [0, 256] 是范围\n",
    "# 其实还有别的参数可以使用，比如直方图的颜色，边框颜色，透明度，直方图类型，normed是否将得到的直方图向量归一化\n",
    "plt.hist(img.ravel(),255,[0,255]); plt.show()\n",
    "\n",
    "# thresh = img.copy()\n",
    "\n",
    "# thresh[thresh > 80] = 255\n",
    "# thresh[thresh <= 80] = 0\n",
    "# # h,w = img.shape\n",
    "# # for i in range(h):\n",
    "# #     for ii in range(w):\n",
    "# #         if img[i][ii] > 1000:\n",
    "# #             img[i][ii] = 0\n",
    "# #         else:\n",
    "# #             img[i][ii] = 1\n",
    "\n",
    "# cv2.imshow('inv.png', thresh)\n",
    "# cv2.waitKey(0)\n",
    "# cv2.destroyAllWindows()\n",
    "\n",
    "ret,binary = cv2.threshold(img,80,255,cv2.THRESH_BINARY)\n",
    "cv2.imshow(\"inv\", binary)\n",
    "\n",
    "# cv2.imshow('inv.png', thresh)\n",
    "cv2.waitKey(0)\n",
    "cv2.destroyAllWindows()"
   ]
  },
  {
   "cell_type": "code",
   "execution_count": 19,
   "metadata": {},
   "outputs": [
    {
     "data": {
      "text/plain": [
       "array([[   0, 2397, 2397, ...,    0,    0,    0],\n",
       "       [   0, 2397, 2397, ...,    0,    0,    0],\n",
       "       [   0, 2397, 2397, ..., 3236,    0,    0],\n",
       "       ...,\n",
       "       [   0,  860,  860, ...,    0,    0,    0],\n",
       "       [   0,    0,  860, ...,    0,    0,    0],\n",
       "       [   0,    0,    0, ...,    0,    0,    0]], dtype=uint16)"
      ]
     },
     "execution_count": 19,
     "metadata": {},
     "output_type": "execute_result"
    }
   ],
   "source": [
    "cv2.imread('0.png',-1)"
   ]
  },
  {
   "cell_type": "code",
   "execution_count": 1,
   "metadata": {},
   "outputs": [],
   "source": [
    "import numpy as np\n",
    "\n"
   ]
  },
  {
   "cell_type": "code",
   "execution_count": 2,
   "metadata": {},
   "outputs": [
    {
     "name": "stdout",
     "output_type": "stream",
     "text": [
      "[[1. 0. 0.]\n",
      " [0. 1. 0.]\n",
      " [0. 0. 1.]]\n",
      "[[517.448   0.    305.432]\n",
      " [  0.    517.448 250.411]\n",
      " [  0.      0.      1.   ]]\n"
     ]
    },
    {
     "data": {
      "text/plain": [
       "array([[-101.16108285],\n",
       "       [ 107.58800884],\n",
       "       [ 800.        ]])"
      ]
     },
     "execution_count": 2,
     "metadata": {},
     "output_type": "execute_result"
    }
   ],
   "source": [
    "camera = np.eye(3,3)\n",
    "print(camera)\n",
    "\n",
    "fx = 517.448 \n",
    "fy = 517.448\n",
    "cx = 305.432\n",
    "cy = 250.411\n",
    "\n",
    "camera[0][0] = fx\n",
    "camera[0][2] = cx\n",
    "camera[1][1] = fy\n",
    "camera[1][2] = cy\n",
    "\n",
    "print(camera)\n",
    "\n",
    "cameraInv = np.linalg.inv(camera)\n",
    "\n",
    "800 * np.dot(cameraInv, np.array([[240],[320],[1]]))"
   ]
  },
  {
   "cell_type": "code",
   "execution_count": null,
   "metadata": {},
   "outputs": [],
   "source": [
    "[-60, 60, 480]"
   ]
  }
 ],
 "metadata": {
  "kernelspec": {
   "display_name": "Python 2",
   "language": "python",
   "name": "python2"
  },
  "language_info": {
   "codemirror_mode": {
    "name": "ipython",
    "version": 2
   },
   "file_extension": ".py",
   "mimetype": "text/x-python",
   "name": "python",
   "nbconvert_exporter": "python",
   "pygments_lexer": "ipython2",
   "version": "2.7.12"
  }
 },
 "nbformat": 4,
 "nbformat_minor": 2
}
