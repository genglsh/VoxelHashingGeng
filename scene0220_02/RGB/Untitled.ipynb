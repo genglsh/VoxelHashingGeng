{
 "cells": [
  {
   "cell_type": "code",
   "execution_count": 1,
   "metadata": {},
   "outputs": [],
   "source": [
    "import os\n",
    "for i in range(49, 69):\n",
    "    yj = \"mv \" + str(i)+\".png \" + str(i-49) + \".png\"\n",
    "    os.system(yj)"
   ]
  },
  {
   "cell_type": "code",
   "execution_count": 8,
   "metadata": {},
   "outputs": [],
   "source": [
    "import cv2\n",
    "for i in range(20):\n",
    "    img = str(i) + \".png\"\n",
    "    a = cv2.imread(img)\n",
    "#     b = cv2.cvtColor(a, cv2.COLOR_RGB2GRAY)\n",
    "    b = cv2.resize(a,(640,480))\n",
    "    cv2.imwrite(img,b)\n",
    "\n"
   ]
  },
  {
   "cell_type": "code",
   "execution_count": 5,
   "metadata": {},
   "outputs": [
    {
     "data": {
      "text/plain": [
       "0.043478260869565216"
      ]
     },
     "execution_count": 5,
     "metadata": {},
     "output_type": "execute_result"
    }
   ],
   "source": [
    "1.0/23"
   ]
  },
  {
   "cell_type": "code",
   "execution_count": 6,
   "metadata": {},
   "outputs": [],
   "source": [
    "import os\n"
   ]
  },
  {
   "cell_type": "code",
   "execution_count": 9,
   "metadata": {},
   "outputs": [
    {
     "name": "stdout",
     "output_type": "stream",
     "text": [
      "mv ../depth/depth0.png ../depth/0.png\n",
      "mv ../depth/depth1.png ../depth/1.png\n",
      "mv ../depth/depth2.png ../depth/2.png\n",
      "mv ../depth/depth3.png ../depth/3.png\n",
      "mv ../depth/depth4.png ../depth/4.png\n",
      "mv ../depth/depth5.png ../depth/5.png\n",
      "mv ../depth/depth6.png ../depth/6.png\n",
      "mv ../depth/depth7.png ../depth/7.png\n",
      "mv ../depth/depth8.png ../depth/8.png\n",
      "mv ../depth/depth9.png ../depth/9.png\n",
      "mv ../depth/depth10.png ../depth/10.png\n",
      "mv ../depth/depth11.png ../depth/11.png\n",
      "mv ../depth/depth12.png ../depth/12.png\n",
      "mv ../depth/depth13.png ../depth/13.png\n",
      "mv ../depth/depth14.png ../depth/14.png\n",
      "mv ../depth/depth15.png ../depth/15.png\n",
      "mv ../depth/depth16.png ../depth/16.png\n",
      "mv ../depth/depth17.png ../depth/17.png\n",
      "mv ../depth/depth18.png ../depth/18.png\n",
      "mv ../depth/depth19.png ../depth/19.png\n",
      "mv ../depth/depth20.png ../depth/20.png\n",
      "mv ../depth/depth21.png ../depth/21.png\n",
      "mv ../depth/depth22.png ../depth/22.png\n",
      "mv ../depth/depth23.png ../depth/23.png\n",
      "mv ../depth/depth24.png ../depth/24.png\n"
     ]
    }
   ],
   "source": [
    "for i in range(25):\n",
    "    lang = \"mv ../depth/depth\" + str(i)+ \".png ../depth/\" + str(i) + \".png\"\n",
    "    print(lang)\n",
    "    os.system(lang)"
   ]
  },
  {
   "cell_type": "code",
   "execution_count": null,
   "metadata": {},
   "outputs": [
    {
     "name": "stdout",
     "output_type": "stream",
     "text": [
      "(302, 300)\n",
      "(333, 245)\n",
      "(308, 304)\n"
     ]
    }
   ],
   "source": [
    "import cv2\n",
    "img=cv2.imread(\"0.png\") # 定片位置\n",
    "img=cv2.cvtColor(img,cv2.COLOR_BGR2GRAY)  # 转化为灰度图\n",
    "# 图片的缩放\n",
    "#size=img.shape\n",
    "#img=cv2.resize(img,(size[1]//2,size[0]//2),cv2.INTER_LINEAR)\n",
    "\n",
    "\n",
    "def onmouse(event,x,y,flags,param):\n",
    "    if event==cv2.EVENT_LBUTTONDOWN:\n",
    "        print(x,y)\n",
    "\n",
    "\n",
    "def main():\n",
    "    cv2.namedWindow(\"img\",cv2.WINDOW_NORMAL)  # 构建窗口\n",
    "    cv2.setMouseCallback(\"img\",onmouse,0) # 回调绑定窗口\n",
    "    cv2.imshow(\"img\",img) # 显示图像\n",
    "    if cv2.waitKey()==ord(\"q\"):\n",
    "        cv2.destroyAllWindows()\n",
    "\n",
    "\n",
    "if __name__==\"__main__\":\n",
    "    main()"
   ]
  },
  {
   "cell_type": "code",
   "execution_count": 2,
   "metadata": {},
   "outputs": [],
   "source": [
    "import cv2\n"
   ]
  },
  {
   "cell_type": "code",
   "execution_count": 5,
   "metadata": {},
   "outputs": [
    {
     "ename": "error",
     "evalue": "OpenCV(4.1.2) /io/opencv_contrib/modules/xfeatures2d/src/sift.cpp:1207: error: (-213:The function/feature is not implemented) This algorithm is patented and is excluded in this configuration; Set OPENCV_ENABLE_NONFREE CMake option and rebuild the library in function 'create'\n",
     "output_type": "error",
     "traceback": [
      "\u001b[0;31m---------------------------------------------------------------------------\u001b[0m",
      "\u001b[0;31merror\u001b[0m                                     Traceback (most recent call last)",
      "\u001b[0;32m<ipython-input-5-609a9cad61ec>\u001b[0m in \u001b[0;36m<module>\u001b[0;34m()\u001b[0m\n\u001b[0;32m----> 1\u001b[0;31m \u001b[0mcv2\u001b[0m\u001b[0;34m.\u001b[0m\u001b[0mxfeatures2d\u001b[0m\u001b[0;34m.\u001b[0m\u001b[0mSIFT_create\u001b[0m\u001b[0;34m(\u001b[0m\u001b[0;34m)\u001b[0m\u001b[0;34m\u001b[0m\u001b[0m\n\u001b[0m",
      "\u001b[0;31merror\u001b[0m: OpenCV(4.1.2) /io/opencv_contrib/modules/xfeatures2d/src/sift.cpp:1207: error: (-213:The function/feature is not implemented) This algorithm is patented and is excluded in this configuration; Set OPENCV_ENABLE_NONFREE CMake option and rebuild the library in function 'create'\n"
     ]
    }
   ],
   "source": [
    "cv2.xfeatures2d.SIFT_create()"
   ]
  },
  {
   "cell_type": "code",
   "execution_count": 4,
   "metadata": {},
   "outputs": [
    {
     "ename": "AttributeError",
     "evalue": "'module' object has no attribute 'SIFT'",
     "output_type": "error",
     "traceback": [
      "\u001b[0;31m---------------------------------------------------------------------------\u001b[0m",
      "\u001b[0;31mAttributeError\u001b[0m                            Traceback (most recent call last)",
      "\u001b[0;32m<ipython-input-4-91ca46f0cc02>\u001b[0m in \u001b[0;36m<module>\u001b[0;34m()\u001b[0m\n\u001b[1;32m      7\u001b[0m \u001b[0;34m\u001b[0m\u001b[0m\n\u001b[1;32m      8\u001b[0m \u001b[0;31m# Initiate SIFT detector\u001b[0m\u001b[0;34m\u001b[0m\u001b[0;34m\u001b[0m\u001b[0m\n\u001b[0;32m----> 9\u001b[0;31m \u001b[0msift\u001b[0m \u001b[0;34m=\u001b[0m \u001b[0mcv2\u001b[0m\u001b[0;34m.\u001b[0m\u001b[0mSIFT\u001b[0m\u001b[0;34m(\u001b[0m\u001b[0;34m)\u001b[0m\u001b[0;34m\u001b[0m\u001b[0m\n\u001b[0m\u001b[1;32m     10\u001b[0m \u001b[0;34m\u001b[0m\u001b[0m\n\u001b[1;32m     11\u001b[0m \u001b[0;31m# find the keypoints and descriptors with SIFT\u001b[0m\u001b[0;34m\u001b[0m\u001b[0;34m\u001b[0m\u001b[0m\n",
      "\u001b[0;31mAttributeError\u001b[0m: 'module' object has no attribute 'SIFT'"
     ]
    }
   ],
   "source": [
    "import numpy as np\n",
    "import cv2\n",
    "from matplotlib import pyplot as plt\n",
    "\n",
    "img1 = cv2.imread('box.png',0)          # queryImage\n",
    "img2 = cv2.imread('box_in_scene.png',0) # trainImage\n",
    "\n",
    "# Initiate SIFT detector\n",
    "sift = cv2.SIFT()\n",
    "\n",
    "# find the keypoints and descriptors with SIFT\n",
    "kp1, des1 = sift.detectAndCompute(img1,None)\n",
    "kp2, des2 = sift.detectAndCompute(img2,None)\n",
    "\n",
    "# BFMatcher with default params\n",
    "bf = cv2.BFMatcher()\n",
    "matches = bf.knnMatch(des1,des2, k=2)\n",
    "\n",
    "# Apply ratio test\n",
    "good = []\n",
    "for m,n in matches:\n",
    "    if m.distance < 0.75*n.distance:\n",
    "        good.append([m])\n",
    "\n",
    "# cv2.drawMatchesKnn expects list of lists as matches.\n",
    "img3 = cv2.drawMatchesKnn(img1,kp1,img2,kp2,good,flags=2)\n",
    "\n",
    "plt.imshow(img3),plt.show()"
   ]
  },
  {
   "cell_type": "code",
   "execution_count": null,
   "metadata": {},
   "outputs": [],
   "source": [
    "cv2."
   ]
  }
 ],
 "metadata": {
  "kernelspec": {
   "display_name": "Python 2",
   "language": "python",
   "name": "python2"
  },
  "language_info": {
   "codemirror_mode": {
    "name": "ipython",
    "version": 2
   },
   "file_extension": ".py",
   "mimetype": "text/x-python",
   "name": "python",
   "nbconvert_exporter": "python",
   "pygments_lexer": "ipython2",
   "version": "2.7.12"
  }
 },
 "nbformat": 4,
 "nbformat_minor": 2
}
